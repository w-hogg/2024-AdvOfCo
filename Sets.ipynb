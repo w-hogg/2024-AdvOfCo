{
 "cells": [
  {
   "cell_type": "markdown",
   "metadata": {},
   "source": [
    "SETS"
   ]
  },
  {
   "cell_type": "code",
   "execution_count": null,
   "metadata": {},
   "outputs": [],
   "source": [
    "#Creating Sets\n",
    "my_set = set() # Creating an empty set\n",
    "fruits = {\"apple\", \"banana\", \"cherry\"} # Creating a set with elements\n",
    "squared_set = {x**2 for x in range(10)} # Creating a set with a comprehension\n",
    "\n",
    "#Adding Elements\n",
    "fruits.add(\"orange\") # Adding a single element\n",
    "fruits.update([\"mango\", \"grape\"])# Adding multiple elements\n",
    "\n",
    "#Removing Elements\n",
    "fruits.remove(\"banana\") # Removing a specific element\n",
    "fruits.discard(\"kiwi\")  # Removing a specific element without error if not found\n",
    "fruits.pop() # Removing and returning an arbitrary element\n",
    "fruits.clear() # Clearing all elements\n",
    "\n",
    "#Set Operations\n",
    "set1 = {1, 2, 3}\n",
    "set2 = {3, 4, 5}\n",
    "union_set = set1 | set2  # Union of sets  \n",
    "set1.union(set2) \n",
    "intersection_set = set1 & set2  # Intersection of sets \n",
    "set1.intersection(set2)\n",
    "difference_set = set1 - set2  # Difference of sets\n",
    "set1.difference(set2)\n",
    "symmetric_difference_set = set1 ^ set2  # Symmetric Difference of sets\n",
    "set1.symmetric_difference(set2)\n",
    "\n",
    "# Checking if an element is in a set\n",
    "if \"apple\" in fruits:\n",
    "    print(\"Apple is in the set\")\n",
    "    "
   ]
  },
  {
   "cell_type": "markdown",
   "metadata": {},
   "source": [
    "SET METHODS"
   ]
  },
  {
   "cell_type": "code",
   "execution_count": null,
   "metadata": {},
   "outputs": [],
   "source": [
    "# Copying a set\n",
    "new_set = fruits.copy()\n",
    "\n",
    "# Checking the length of a set\n",
    "len(fruits)\n",
    "\n",
    "# Checking if one set is a subset of another\n",
    "subset = {1, 2}\n",
    "super_set = {1, 2, 3, 4}\n",
    "is_subset = subset.issubset(super_set)  # True\n",
    "\n",
    "# Checking if one set is a superset of another\n",
    "is_superset = super_set.issuperset(subset)  # True\n",
    "\n",
    "# Checking if two sets have no elements in common\n",
    "is_disjoint = set1.isdisjoint(set2)  # False\n"
   ]
  }
 ],
 "metadata": {
  "kernelspec": {
   "display_name": "Python 3",
   "language": "python",
   "name": "python3"
  },
  "language_info": {
   "name": "python",
   "version": "3.10.15"
  }
 },
 "nbformat": 4,
 "nbformat_minor": 2
}
