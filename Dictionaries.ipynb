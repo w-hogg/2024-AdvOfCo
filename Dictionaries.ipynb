{
 "cells": [
  {
   "cell_type": "markdown",
   "metadata": {},
   "source": [
    "DICTIONARIES"
   ]
  },
  {
   "cell_type": "code",
   "execution_count": null,
   "metadata": {},
   "outputs": [],
   "source": [
    "#Creating Dictionaries\n",
    "my_dict = {} # Creating an empty dictionary\n",
    "person = {\"name\": \"Alice\", \"age\": 25, \"city\": \"London\"} # Creating a dictionary with elements\n",
    "squared_numbers = {x: x**2 for x in range(5)}  # {0: 0, 1: 1, 2: 4, 3: 9, 4: 16}  # Creating a dictionary with a comprehension\n",
    "\n",
    "#Accessing Values\n",
    "name = person[\"name\"]  # \"Alice\"  # Accessing values by key\n",
    "age = person.get(\"age\")  # 25  # Accessing values using get()\n",
    "\n",
    "# Adding or updating elements\n",
    "person[\"email\"] = \"alice@example.com\"\n",
    "person[\"age\"] = 26  # Update age\n",
    "\n",
    "# Removing elements\n",
    "del person[\"city\"]\n",
    "removed_age = person.pop(\"age\")  # Removes \"age\" and returns the value 26\n",
    "\n",
    "# Removing all elements\n",
    "person.clear()\n",
    "\n"
   ]
  },
  {
   "cell_type": "markdown",
   "metadata": {},
   "source": [
    "Dictionary Operations"
   ]
  },
  {
   "cell_type": "code",
   "execution_count": null,
   "metadata": {},
   "outputs": [],
   "source": [
    "# Checking if a key is in a dictionary\n",
    "if \"name\" in person:\n",
    "    print(\"Name is in the dictionary\")\n",
    "\n",
    "# Length of a dictionary\n",
    "length = len(person)  # 2\n"
   ]
  },
  {
   "cell_type": "markdown",
   "metadata": {},
   "source": [
    "Iterating Through Dictionaries"
   ]
  },
  {
   "cell_type": "code",
   "execution_count": null,
   "metadata": {},
   "outputs": [],
   "source": [
    "# Iterating through keys\n",
    "for key in person.keys():\n",
    "    print(key)\n",
    "\n",
    "# Iterating through values\n",
    "for value in person.values():\n",
    "    print(value)\n",
    "\n",
    "# Iterating through key-value pairs\n",
    "for key, value in person.items():\n",
    "    print(f\"{key}: {value}\")"
   ]
  },
  {
   "cell_type": "markdown",
   "metadata": {},
   "source": [
    "Built in Methods"
   ]
  },
  {
   "cell_type": "code",
   "execution_count": null,
   "metadata": {},
   "outputs": [],
   "source": [
    "# Copying a dictionary\n",
    "new_dict = person.copy()\n",
    "\n",
    "# Updating a dictionary with another dictionary\n",
    "additional_info = {\"country\": \"UK\", \"gender\": \"Female\"}\n",
    "person.update(additional_info)  # person now has \"country\" and \"gender\"\n",
    "merged_dict = person | additional_info # if there are duplicate keys, the values from the second dictionary take precedence.\n",
    "\n",
    "#Getting Lists\n",
    "items = person.items() # Getting a list of (key, value) pairs\n",
    "keys = person.keys() # Getting a list of keys\n",
    "values = person.values() # Getting a list of values\n"
   ]
  }
 ],
 "metadata": {
  "kernelspec": {
   "display_name": "Python 3",
   "language": "python",
   "name": "python3"
  },
  "language_info": {
   "name": "python",
   "version": "3.10.15"
  }
 },
 "nbformat": 4,
 "nbformat_minor": 2
}
