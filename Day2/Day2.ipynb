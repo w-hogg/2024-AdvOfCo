{
 "cells": [
  {
   "cell_type": "markdown",
   "metadata": {},
   "source": [
    "Part 1"
   ]
  },
  {
   "cell_type": "code",
   "execution_count": 2,
   "metadata": {},
   "outputs": [],
   "source": [
    "import pandas as pd"
   ]
  },
  {
   "cell_type": "code",
   "execution_count": 29,
   "metadata": {},
   "outputs": [
    {
     "data": {
      "text/html": [
       "<div>\n",
       "<style scoped>\n",
       "    .dataframe tbody tr th:only-of-type {\n",
       "        vertical-align: middle;\n",
       "    }\n",
       "\n",
       "    .dataframe tbody tr th {\n",
       "        vertical-align: top;\n",
       "    }\n",
       "\n",
       "    .dataframe thead th {\n",
       "        text-align: right;\n",
       "    }\n",
       "</style>\n",
       "<table border=\"1\" class=\"dataframe\">\n",
       "  <thead>\n",
       "    <tr style=\"text-align: right;\">\n",
       "      <th></th>\n",
       "      <th>0</th>\n",
       "    </tr>\n",
       "  </thead>\n",
       "  <tbody>\n",
       "    <tr>\n",
       "      <th>0</th>\n",
       "      <td>6 8 9 11 14 12</td>\n",
       "    </tr>\n",
       "    <tr>\n",
       "      <th>1</th>\n",
       "      <td>31 33 36 39 42 42</td>\n",
       "    </tr>\n",
       "    <tr>\n",
       "      <th>2</th>\n",
       "      <td>5 6 7 9 11 13 17</td>\n",
       "    </tr>\n",
       "    <tr>\n",
       "      <th>3</th>\n",
       "      <td>7 9 12 15 17 18 21 27</td>\n",
       "    </tr>\n",
       "    <tr>\n",
       "      <th>4</th>\n",
       "      <td>58 59 60 59 60</td>\n",
       "    </tr>\n",
       "  </tbody>\n",
       "</table>\n",
       "</div>"
      ],
      "text/plain": [
       "                       0\n",
       "0         6 8 9 11 14 12\n",
       "1      31 33 36 39 42 42\n",
       "2       5 6 7 9 11 13 17\n",
       "3  7 9 12 15 17 18 21 27\n",
       "4         58 59 60 59 60"
      ]
     },
     "execution_count": 29,
     "metadata": {},
     "output_type": "execute_result"
    }
   ],
   "source": [
    "df=pd.read_csv('Day2input.txt', delimiter=',', engine='python', header=None)\n",
    "df.head()"
   ]
  },
  {
   "cell_type": "code",
   "execution_count": null,
   "metadata": {},
   "outputs": [],
   "source": [
    "def StringToList(data_string):\n",
    "    data_list = list(map(int, data_string.split()))\n",
    "    return data_list\n",
    "\n",
    "def ValidCheckFromList(data_list):\n",
    "    # Create a DataFrame from the list\n",
    "    df = pd.DataFrame(data_list, columns=['Values'])\n",
    "\n",
    "    # Calculate the differences between each item and the next item\n",
    "    df['Difference'] = df['Values'].diff().shift(-1)\n",
    "\n",
    "    # Create Boolean columns to check conditions\n",
    "    df['AllPositiveAndLess4'] = (df['Difference'] > 0) & (df['Difference'] < 4)\n",
    "    df['AllNegativeAndMoreMinus4'] = (df['Difference'] < 0) & (df['Difference'] > -4)\n",
    "\n",
    "    # Remove the last row because it has no next item to compare to\n",
    "    df = df.iloc[:-1]\n",
    "\n",
    "    # Check if all values in either of the condition columns are True\n",
    "    valid_list = df['AllPositiveAndLess4'].all() or df['AllNegativeAndMoreMinus4'].all()\n",
    "\n",
    "    return valid_list\n",
    "\n",
    "def ValidCheckFromString(data_string):\n",
    "    data_list = StringToList(data_string)\n",
    "    valid_list = ValidCheckFromList(data_list)\n",
    "    return valid_list\n"
   ]
  },
  {
   "cell_type": "code",
   "execution_count": 47,
   "metadata": {},
   "outputs": [
    {
     "name": "stdout",
     "output_type": "stream",
     "text": [
      "314\n"
     ]
    }
   ],
   "source": [
    "First_string = df.iloc[0,0]\n",
    "ValidCheckFromString(First_string)\n",
    "\n",
    "count_trues = df[0].apply(ValidCheckFromString).sum()\n",
    "print(count_trues)"
   ]
  },
  {
   "cell_type": "markdown",
   "metadata": {},
   "source": [
    "PART 2"
   ]
  },
  {
   "cell_type": "code",
   "execution_count": 62,
   "metadata": {},
   "outputs": [],
   "source": [
    "# Function to remove and print items\n",
    "def ValidCheckWithAToleranceFromList(lst):\n",
    "    safe = False\n",
    "    safe = ValidCheckFromList(lst)\n",
    "    # Loop through the original indices\n",
    "    for i in range(len(lst)):\n",
    "        temp_list = lst.copy()  # Create a copy of the original list\n",
    "        del temp_list[i]  # Remove the item at the current index\n",
    "        if  ValidCheckFromList(temp_list):\n",
    "            safe = True\n",
    "    \n",
    "    return safe\n",
    "\n",
    "def ValidCheckWithAToleranceFromString(data_string):\n",
    "    data_list = StringToList(data_string)\n",
    "    valid_list = ValidCheckWithAToleranceFromList(data_list)\n",
    "    return valid_list\n"
   ]
  },
  {
   "cell_type": "code",
<<<<<<< HEAD
   "execution_count": null,
=======
   "execution_count": 63,
   "metadata": {},
   "outputs": [
    {
     "name": "stdout",
     "output_type": "stream",
     "text": [
      "True\n"
     ]
    }
   ],
   "source": [
    "# Sample list of integers\n",
    "integer_string= df.iloc[0,0]\n",
    "integer_list = StringToList(integer_string)\n",
    "#print(integer_list)\n",
    "print(ValidCheckWithAToleranceFromList(integer_list))"
   ]
  },
  {
   "cell_type": "code",
   "execution_count": 64,
>>>>>>> 1f4fa152c8ea9ce4d46cec49992cd9097699131c
   "metadata": {},
   "outputs": [
    {
     "name": "stdout",
     "output_type": "stream",
     "text": [
      "373\n"
     ]
    }
   ],
   "source": [
<<<<<<< HEAD
    "# Sample list of integers\n",
    "integer_string= df.iloc[0,0]\n",
    "integer_list = StringToList(integer_string)\n",
    "#print(integer_list)\n",
    "print(ValidCheckWithAToleranceFromList(integer_list))\n",
    "\n",
=======
>>>>>>> 1f4fa152c8ea9ce4d46cec49992cd9097699131c
    "count_trues = df[0].apply(ValidCheckWithAToleranceFromString).sum()\n",
    "print(count_trues)"
   ]
  }
 ],
 "metadata": {
  "kernelspec": {
   "display_name": "Python 3",
   "language": "python",
   "name": "python3"
  },
  "language_info": {
   "codemirror_mode": {
    "name": "ipython",
    "version": 3
   },
   "file_extension": ".py",
   "mimetype": "text/x-python",
   "name": "python",
   "nbconvert_exporter": "python",
   "pygments_lexer": "ipython3",
   "version": "3.10.15"
  }
 },
 "nbformat": 4,
 "nbformat_minor": 2
}
