{
 "cells": [
  {
   "cell_type": "markdown",
   "metadata": {},
   "source": [
    "Part 1"
   ]
  },
  {
   "cell_type": "code",
   "execution_count": 2,
   "metadata": {},
   "outputs": [],
   "source": [
    "import pandas as pd"
   ]
  },
  {
   "cell_type": "code",
   "execution_count": 29,
   "metadata": {},
   "outputs": [
    {
     "data": {
      "text/html": [
       "<div>\n",
       "<style scoped>\n",
       "    .dataframe tbody tr th:only-of-type {\n",
       "        vertical-align: middle;\n",
       "    }\n",
       "\n",
       "    .dataframe tbody tr th {\n",
       "        vertical-align: top;\n",
       "    }\n",
       "\n",
       "    .dataframe thead th {\n",
       "        text-align: right;\n",
       "    }\n",
       "</style>\n",
       "<table border=\"1\" class=\"dataframe\">\n",
       "  <thead>\n",
       "    <tr style=\"text-align: right;\">\n",
       "      <th></th>\n",
       "      <th>0</th>\n",
       "    </tr>\n",
       "  </thead>\n",
       "  <tbody>\n",
       "    <tr>\n",
       "      <th>0</th>\n",
       "      <td>6 8 9 11 14 12</td>\n",
       "    </tr>\n",
       "    <tr>\n",
       "      <th>1</th>\n",
       "      <td>31 33 36 39 42 42</td>\n",
       "    </tr>\n",
       "    <tr>\n",
       "      <th>2</th>\n",
       "      <td>5 6 7 9 11 13 17</td>\n",
       "    </tr>\n",
       "    <tr>\n",
       "      <th>3</th>\n",
       "      <td>7 9 12 15 17 18 21 27</td>\n",
       "    </tr>\n",
       "    <tr>\n",
       "      <th>4</th>\n",
       "      <td>58 59 60 59 60</td>\n",
       "    </tr>\n",
       "  </tbody>\n",
       "</table>\n",
       "</div>"
      ],
      "text/plain": [
       "                       0\n",
       "0         6 8 9 11 14 12\n",
       "1      31 33 36 39 42 42\n",
       "2       5 6 7 9 11 13 17\n",
       "3  7 9 12 15 17 18 21 27\n",
       "4         58 59 60 59 60"
      ]
     },
     "execution_count": 29,
     "metadata": {},
     "output_type": "execute_result"
    }
   ],
   "source": [
    "df=pd.read_csv('Day2input.txt', delimiter=',', engine='python', header=None)\n",
    "df.head()"
   ]
  },
  {
   "cell_type": "code",
   "execution_count": null,
   "metadata": {},
   "outputs": [],
   "source": [
    "def ValidCheck(data_string):\n",
    "    # Split the string into a list and convert it to integers\n",
    "    data_list = [int(num) for num in data_string.split()]\n",
    "\n",
    "    # Convert the list into a DataFrame\n",
    "    df2 = pd.DataFrame(data_list, columns=['Values'])\n",
    "\n",
    "    # Calculate the difference between each item and the next item\n",
    "    df2['Difference'] = df2['Values'].diff().shift(-1)\n",
    "    df2[\"AllPositive\"]=df2['Difference'] > 0\n",
    "    df2[\"Less4\"]=df2['Difference'] < 4\n",
    "    df2[\"AllPositiveAndLess4\"]=df2[\"AllPositive\"] * df2[\"Less4\"]\n",
    "\n",
    "    df2[\"AllNegative\"]=df2['Difference'] < 0\n",
    "    df2[\"MoreMinus4\"]=df2['Difference'] > -4\n",
    "    df2[\"AllNegativeAndMoreMinus4\"] = df2[\"AllNegative\"] * df2[\"MoreMinus4\"]\n",
    "\n",
    "    df2 = df2.drop(df2.index[-1])\n",
    "\n",
    "    alltrue1 = df2[\"AllPositiveAndLess4\"].all()\n",
    "    alltrue2 = df2[\"AllNegativeAndMoreMinus4\"].all()\n",
    "\n",
    "    ValidList = alltrue1 or alltrue2\n",
    "\n",
    "    return ValidList\n"
   ]
  },
  {
   "cell_type": "code",
   "execution_count": null,
   "metadata": {},
   "outputs": [
    {
     "name": "stdout",
     "output_type": "stream",
     "text": [
      "False\n"
     ]
    }
   ],
   "source": [
    "# Your string\n",
    "First_string = df.iloc[0,0]\n",
    "print(ValidCheck(First_string))"
   ]
  },
  {
   "cell_type": "code",
   "execution_count": 38,
   "metadata": {},
   "outputs": [
    {
     "name": "stdout",
     "output_type": "stream",
     "text": [
      "314\n"
     ]
    }
   ],
   "source": [
    "First_string = df.iloc[0,0]\n",
    "ValidCheck(First_string)\n",
    "\n",
    "count_trues = df[0].apply(ValidCheck).sum()\n",
    "print(count_trues)"
   ]
  },
  {
   "cell_type": "code",
   "execution_count": null,
   "metadata": {},
   "outputs": [],
   "source": []
  }
 ],
 "metadata": {
  "kernelspec": {
   "display_name": "Python 3",
   "language": "python",
   "name": "python3"
  },
  "language_info": {
   "codemirror_mode": {
    "name": "ipython",
    "version": 3
   },
   "file_extension": ".py",
   "mimetype": "text/x-python",
   "name": "python",
   "nbconvert_exporter": "python",
   "pygments_lexer": "ipython3",
   "version": "3.10.15"
  }
 },
 "nbformat": 4,
 "nbformat_minor": 2
}
