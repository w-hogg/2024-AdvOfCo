{
 "cells": [
  {
   "cell_type": "markdown",
   "metadata": {},
   "source": [
    "PART ONE"
   ]
  },
  {
   "cell_type": "code",
   "execution_count": 2,
   "metadata": {},
   "outputs": [],
   "source": [
    "import numpy as np"
   ]
  },
  {
   "cell_type": "code",
   "execution_count": 1,
   "metadata": {},
   "outputs": [],
   "source": [
    "def IsXMAS(list):\n",
    "    output=False\n",
    "    if list[0]=='X' and list[1]=='M' and list[2]=='A' and list[3]== 'S': \n",
    "        output = True\n",
    "    return output\n",
    "\n",
    "def CountXMASInList(list):\n",
    "    output = 0\n",
    "    for element in list:\n",
    "        if len(list)>=4:\n",
    "            if IsXMAS(list):\n",
    "                output = output + 1\n",
    "            list = list[1:]\n",
    "    return output\n",
    "\n",
    "def CountXMASInListOrReverse(list):\n",
    "    output = CountXMASInList(list)\n",
    "    list.reverse()\n",
    "    output = output + CountXMASInList(list)\n",
    "    return output\n"
   ]
  },
  {
   "cell_type": "code",
   "execution_count": 36,
   "metadata": {},
   "outputs": [
    {
     "data": {
      "text/plain": [
       "3"
      ]
     },
     "execution_count": 36,
     "metadata": {},
     "output_type": "execute_result"
    }
   ],
   "source": [
    "list = ['X','M','A','S','B','X','M','A','S','A','M','X']\n",
    "num = CountXMASInListOrReverse(list)\n",
    "num"
   ]
  },
  {
   "cell_type": "code",
   "execution_count": 37,
   "metadata": {},
   "outputs": [
    {
     "name": "stdout",
     "output_type": "stream",
     "text": [
      "[['M' 'M' 'M' ... 'M' 'X' 'A']\n",
      " ['A' 'A' 'A' ... 'S' 'X' 'M']\n",
      " ['S' 'S' 'X' ... 'X' 'A' 'S']\n",
      " ...\n",
      " ['A' 'A' 'M' ... 'X' 'S' 'A']\n",
      " ['M' 'M' 'M' ... 'A' 'A' 'A']\n",
      " ['X' 'X' 'M' ... 'X' 'S' 'M']]\n"
     ]
    }
   ],
   "source": [
    "# Read the content of the file\n",
    "with open('Day4Input.txt', 'r') as file:\n",
    "    lines = file.readlines()\n",
    "\n",
    "# Create a list of lists where each character is a separate element\n",
    "char_array = [list(line.strip()) for line in lines]\n",
    "\n",
    "# Convert the list of lists to a numpy array\n",
    "numpy_array = np.array(char_array)\n",
    "\n",
    "print(numpy_array)"
   ]
  },
  {
   "cell_type": "code",
   "execution_count": 39,
   "metadata": {},
   "outputs": [
    {
     "name": "stdout",
     "output_type": "stream",
     "text": [
      "401\n",
      "808\n",
      "1585\n",
      "2378\n"
     ]
    }
   ],
   "source": [
    "count = 0 \n",
    "for row in numpy_array: #count the rows\n",
    "    count = count + CountXMASInListOrReverse(row.tolist())\n",
    "\n",
    "print(count)\n",
    "\n",
    "for col in numpy_array.T: #count the columns\n",
    "    count = count + CountXMASInListOrReverse(col.tolist())\n",
    "\n",
    "print(count)\n",
    "\n",
    "for i in range( - numpy_array.shape[0] , numpy_array.shape[0]):\n",
    "    diag = numpy_array.diagonal(i).tolist()\n",
    "    count = count + CountXMASInListOrReverse(diag)\n",
    "\n",
    "print(count)\n",
    "numpy_array=np.flipud(numpy_array)\n",
    "\n",
    "for i in range( - numpy_array.shape[0] , numpy_array.shape[0]):\n",
    "    count = count + CountXMASInListOrReverse(numpy_array.diagonal(i).tolist())\n",
    "\n",
    "print(count)\n",
    "\n"
   ]
  }
 ],
 "metadata": {
  "kernelspec": {
   "display_name": "WkEnvAoC",
   "language": "python",
   "name": "python3"
  },
  "language_info": {
   "codemirror_mode": {
    "name": "ipython",
    "version": 3
   },
   "file_extension": ".py",
   "mimetype": "text/x-python",
   "name": "python",
   "nbconvert_exporter": "python",
   "pygments_lexer": "ipython3",
   "version": "3.10.15"
  }
 },
 "nbformat": 4,
 "nbformat_minor": 2
}
