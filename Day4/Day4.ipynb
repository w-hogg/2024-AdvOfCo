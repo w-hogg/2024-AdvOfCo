{
 "cells": [
  {
   "cell_type": "markdown",
   "metadata": {},
   "source": [
    "PART ONE"
   ]
  },
  {
   "cell_type": "code",
   "execution_count": 35,
   "metadata": {},
   "outputs": [],
   "source": [
    "def IsXMAS(list):\n",
    "    output=False\n",
    "    if list[0]=='X' and list[1]=='M' and list[2]=='A' and list[3]== 'S': \n",
    "        output = True\n",
    "    return output\n",
    "\n",
    "def CountXMASInList(list):\n",
    "    output = 0\n",
    "    for element in list:\n",
    "        if len(list)>=4:\n",
    "            if IsXMAS(list):\n",
    "                output = output + 1\n",
    "            list = list[1:]\n",
    "    return output\n",
    "\n",
    "def CountXMASInListOrReverse(list):\n",
    "    output = CountXMASInList(list)\n",
    "    list.reverse()\n",
    "    output = output + CountXMASInList(list)\n",
    "    return output\n"
   ]
  },
  {
   "cell_type": "code",
   "execution_count": 36,
   "metadata": {},
   "outputs": [
    {
     "data": {
      "text/plain": [
       "3"
      ]
     },
     "execution_count": 36,
     "metadata": {},
     "output_type": "execute_result"
    }
   ],
   "source": [
    "list = ['X','M','A','S','B','X','M','A','S','A','M','X']\n",
    "num = CountXMASInListOrReverse(list)\n",
    "num"
   ]
  },
  {
   "cell_type": "code",
   "execution_count": 38,
   "metadata": {},
   "outputs": [
    {
     "name": "stdout",
     "output_type": "stream",
     "text": [
      "['M', 'M', 'M', 'M', 'A', 'X', 'A', 'S', 'M', 'S', 'X', 'X', 'M', 'M', 'S', 'M', 'X', 'A', 'S', 'X', 'M', 'S', 'S', 'M', 'M', 'M', 'A', 'X', 'X', 'M', 'A', 'X', 'A', 'M', 'X', 'S', 'S', 'S', 'M', 'M', 'S', 'M', 'S', 'S', 'S', 'S', 'M', 'M', 'M', 'S', 'X', 'M', 'S', 'S', 'M', 'M', 'S', 'A', 'X', 'M', 'A', 'S', 'M', 'M', 'M', 'S', 'A', 'M', 'X', 'S', 'X', 'S', 'M', 'M', 'X', 'M', 'S', 'M', 'M', 'A', 'M', 'A', 'M', 'X', 'X', 'S', 'X', 'S', 'X', 'M', 'A', 'M', 'M', 'M', 'X', 'S', 'S', 'M', 'M', 'S', 'S', 'M', 'M', 'M', 'S', 'S', 'M', 'M', 'S', 'A', 'M', 'X', 'M', 'X', 'M', 'A', 'S', 'X', 'M', 'A', 'S', 'X', 'X', 'S', 'S', 'M', 'S', 'A', 'M', 'M', 'X', 'M', 'A', 'S', 'X', 'M', 'M', 'M', 'X', 'A']\n"
     ]
    }
   ],
   "source": [
    "# Open the file in read mode\n",
    "with open('Day4input.txt', 'r') as file:\n",
    "    # Read the first line\n",
    "    first_line = file.readline()\n",
    "    # Convert the first line into a list of characters\n",
    "    char_list = [char for char in first_line.strip()]\n",
    "    print(char_list)\n"
   ]
  }
 ],
 "metadata": {
  "kernelspec": {
   "display_name": "Python 3",
   "language": "python",
   "name": "python3"
  },
  "language_info": {
   "codemirror_mode": {
    "name": "ipython",
    "version": 3
   },
   "file_extension": ".py",
   "mimetype": "text/x-python",
   "name": "python",
   "nbconvert_exporter": "python",
   "pygments_lexer": "ipython3",
   "version": "3.10.15"
  }
 },
 "nbformat": 4,
 "nbformat_minor": 2
}
