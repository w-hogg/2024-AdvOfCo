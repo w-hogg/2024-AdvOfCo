{
 "cells": [
  {
   "cell_type": "code",
   "execution_count": 2,
   "metadata": {},
   "outputs": [
    {
     "name": "stdout",
     "output_type": "stream",
     "text": [
      "4000\n"
     ]
    }
   ],
   "source": [
    "import sys\n",
    "print(sys.getrecursionlimit()) #3000 was default\n",
    "sys.setrecursionlimit(4000)"
   ]
  },
  {
   "cell_type": "markdown",
   "metadata": {},
   "source": [
    "PART ONE"
   ]
  },
  {
   "cell_type": "code",
   "execution_count": 19,
   "metadata": {},
   "outputs": [
    {
     "name": "stdout",
     "output_type": "stream",
     "text": [
      "[['#' '#' '#' ... '#' '#' '#']\n",
      " ['#' '.' '.' ... '.' 'E' '#']\n",
      " ['#' '#' '#' ... '#' '.' '#']\n",
      " ...\n",
      " ['#' '.' '#' ... '#' '.' '#']\n",
      " ['#' 'S' '.' ... '.' '.' '#']\n",
      " ['#' '#' '#' ... '#' '#' '#']]\n",
      "{(0, 0, 'r')}\n",
      "72428 uuuuuuuuuurrrrrrrrrrrrddddddrrddddrrrrrrrrrrrrrrrrrruulluuuuuurrrrrrrrrrrrrrrrddrrrrrruurrrrrrrrrrrrrrrruurrrrddddrrddrrrrrrrrrrrruuuurrrruurrrrrrrrrrrrrrrruurrrrrrrrrruurrrrrruurrddrrrrrrrrrruuuuuuuuuuuuuuuuuuuuuulluuuuuuuuuuuuuuuuuuuulllluuuuuuuuuuuuuulllluurrrrrruurruurrrrrruuuulllllllluuuurrrrrruuuuuuuullddlllluuuuuurruurrrrrruuuuuuuulllllllllllluulllluuuuuullddddlllllluuuuuurruuuuuuuuuuuuuuuuuurruurrrrrrrrrruurrrrrrrrrr 428\n"
     ]
    }
   ],
   "source": [
    "import numpy as np\n",
    "\n",
    "DirectionsDict= {'u' : ['u', [-1,0], 'l', [0,-1],'r', [0,1]], \n",
    "                 'd' :['d', [1,0], 'l', [0,-1],'r', [0,1]], \n",
    "                 'r' :['r', [0,1], 'u', [-1,0],'d', [1,0]], \n",
    "                 'l' :['l', [0,-1], 'u', [-1,0],'d', [1,0]]}\n",
    "\n",
    "FastestToReach={}\n",
    "\n",
    "def ImportToArray(filepath):\n",
    "    with open(filepath,'r') as file:\n",
    "        lines = [list(line.strip()) for line in file.readlines()]\n",
    "    return np.array(lines)\n",
    "\n",
    "def NextMove(index, direction, score_so_far, set_so_far, string_so_far):\n",
    "    global MinScore\n",
    "    global MinString\n",
    "    global Grid\n",
    "\n",
    "    if not (index[0], index[1], direction) in FastestToReach:\n",
    "        FastestToReach[index[0], index[1], direction] = 1e9\n",
    "\n",
    "    if FastestToReach[index[0], index[1], direction] > score_so_far:\n",
    "        FastestToReach[index[0], index[1], direction] = score_so_far\n",
    "        #print(index, direction, score_so_far, string_so_far, FastestToReach[index[0], index[1], direction])\n",
    "\n",
    "        if Grid[index[0], index[1]]=='E':\n",
    "            MinScore = score_so_far\n",
    "            MinString = string_so_far\n",
    "            #print(MinScore)\n",
    "\n",
    "        if score_so_far<MinScore and not ((index[0], index[1]) in set_so_far):\n",
    "            set_so_far=set_so_far.copy()\n",
    "            set_so_far.add((index[0], index[1]))\n",
    "\n",
    "            straight, StraightDirection, turn1, Turn1Direction, turn2, Turn2Direction = DirectionsDict[direction]\n",
    "            StraightMove = [index[0]+StraightDirection[0],index[1]+StraightDirection[1]]\n",
    "            Turn1Move = [index[0]+Turn1Direction[0],index[1]+Turn1Direction[1]]\n",
    "            Turn2Move = [index[0]+Turn2Direction[0],index[1]+Turn2Direction[1]]\n",
    "\n",
    "            if Grid[StraightMove[0],StraightMove[1]] in ('.','E'):\n",
    "                NextMove([StraightMove[0], StraightMove[1]], straight, score_so_far+1, set_so_far, string_so_far+straight)\n",
    "            if  Grid[Turn1Move[0],Turn1Move[1]] in ('.','E'):\n",
    "                NextMove([Turn1Move[0],Turn1Move[1]], turn1, score_so_far+1001, set_so_far, string_so_far+turn1)\n",
    "            if  Grid[Turn2Move[0], Turn2Move[1]] in ('.','E'):\n",
    "                NextMove([Turn2Move[0], Turn2Move[1]], turn2, score_so_far+1001, set_so_far, string_so_far+turn2)\n",
    "        \n",
    "Scenario = 'Input'\n",
    "\n",
    "Grid = ImportToArray('Day16'+Scenario+'.txt')\n",
    "print(Grid)\n",
    "\n",
    "MinScore = 5e5\n",
    "MinString = ''\n",
    "\n",
    "StartingPoint = np.argwhere(Grid=='S')[0]\n",
    "\n",
    "empty_Set = set()\n",
    "empty_Set.add((0,0,'r'))\n",
    "print(empty_Set)\n",
    "\n",
    "NextMove( StartingPoint, 'r',0, empty_Set,'')\n",
    "\n",
    "print(MinScore, MinString, len(MinString))\n",
    "\n",
    "EndingPoint = np.argwhere(Grid=='E')[0]\n",
    "#print(FastestToReach[EndingPoint[0],EndingPoint[1],'u'][0])\n",
    "#72428 is the answer\n"
   ]
  },
  {
   "cell_type": "markdown",
   "metadata": {},
   "source": [
    "PART TWO"
   ]
  },
  {
   "cell_type": "code",
   "execution_count": 23,
   "metadata": {},
   "outputs": [
    {
     "name": "stdout",
     "output_type": "stream",
     "text": [
      "[['#' '#' '#' ... '#' '#' '#']\n",
      " ['#' '.' '.' ... '.' 'E' '#']\n",
      " ['#' '#' '#' ... '#' '.' '#']\n",
      " ...\n",
      " ['#' '.' '#' ... '#' '.' '#']\n",
      " ['#' 'S' '.' ... '.' '.' '#']\n",
      " ['#' '#' '#' ... '#' '#' '#']]\n",
      "{(0, 0, 'r')}\n",
      "72428 uuuuuuuuuurrrrrrrrrrrrddddddrrddddrrrrrrrrrruuuuuuuuuurrrrrrrrrrddrrrrrrrrrrrrddrrrrrruurrrrrrrrrrrrrrrruurrrrddddrrddrrrrrrrrrrrruuuurrrruurrrrrrrrrrrrrrrruurrrrrrrrrruurrrrrruurrddrrrrrrrrrruuuuuuuuuuuuuuuuuuuuuulluuuuuuuuuuuuuuuuuuuulllluuuuuuuuuuuuuulllluurrrrrruurruurrrrrruuuulllllllluuuurrrrrruuuuuuuullddlllluuuuuurruurrrrrruuuuuuuulllllllllllluulllluuuuuullddddlllllluuuuuurruuuuuuuuuuuuuuuurruuuurrrrrrrruurrrrrrrrrrrr 428\n",
      "348228\n",
      "1229\n"
     ]
    }
   ],
   "source": [
    "import numpy as np\n",
    "\n",
    "DirectionsDict= {'u' : ['u', [-1,0], 'l', [0,-1],'r', [0,1]], \n",
    "                 'd' :['d', [1,0], 'l', [0,-1],'r', [0,1]], \n",
    "                 'r' :['r', [0,1], 'u', [-1,0],'d', [1,0]], \n",
    "                 'l' :['l', [0,-1], 'u', [-1,0],'d', [1,0]]}\n",
    "\n",
    "FastestToReach={}\n",
    "\n",
    "def ImportToArray(filepath):\n",
    "    with open(filepath,'r') as file:\n",
    "        lines = [list(line.strip()) for line in file.readlines()]\n",
    "    return np.array(lines)\n",
    "\n",
    "def NextMove(index, direction, score_so_far, set_so_far, string_so_far):\n",
    "    global MinScore\n",
    "    global MinString\n",
    "    global Grid\n",
    "\n",
    "    if not (index[0], index[1], direction) in FastestToReach:\n",
    "        FastestToReach[index[0], index[1], direction] = 1e9, set()\n",
    "\n",
    "    if FastestToReach[index[0], index[1], direction][0] == score_so_far:\n",
    "        #print('add to set', index, set_so_far,FastestToReach[index[0], index[1], direction][1] )\n",
    "        set_so_far = FastestToReach[index[0], index[1], direction][1].union(set_so_far) \n",
    "        FastestToReach[index[0], index[1], direction] = score_so_far, set_so_far     \n",
    "\n",
    "    if FastestToReach[index[0], index[1], direction][0] >= score_so_far:\n",
    "        #print('new set', index, set_so_far )\n",
    "        FastestToReach[index[0], index[1], direction] = score_so_far, set_so_far\n",
    "        #print(index, direction, score_so_far, string_so_far, FastestToReach[index[0], index[1], direction])\n",
    "\n",
    "        if Grid[index[0], index[1]]=='E':\n",
    "            MinScore = score_so_far\n",
    "            MinString = string_so_far\n",
    "            #print(MinScore)\n",
    "\n",
    "        if score_so_far<MinScore and not ((index[0], index[1]) in set_so_far):\n",
    "            set_so_far=set_so_far.copy()\n",
    "            set_so_far.add((index[0], index[1]))\n",
    "\n",
    "            straight, StraightDirection, turn1, Turn1Direction, turn2, Turn2Direction = DirectionsDict[direction]\n",
    "            StraightMove = [index[0]+StraightDirection[0],index[1]+StraightDirection[1]]\n",
    "            Turn1Move = [index[0]+Turn1Direction[0],index[1]+Turn1Direction[1]]\n",
    "            Turn2Move = [index[0]+Turn2Direction[0],index[1]+Turn2Direction[1]]\n",
    "\n",
    "            if Grid[StraightMove[0],StraightMove[1]] in ('.','E'):\n",
    "                NextMove([StraightMove[0], StraightMove[1]], straight, score_so_far+1, set_so_far, string_so_far+straight)\n",
    "            if  Grid[Turn1Move[0],Turn1Move[1]] in ('.','E'):\n",
    "                NextMove([Turn1Move[0],Turn1Move[1]], turn1, score_so_far+1001, set_so_far, string_so_far+turn1)\n",
    "            if  Grid[Turn2Move[0], Turn2Move[1]] in ('.','E'):\n",
    "                NextMove([Turn2Move[0], Turn2Move[1]], turn2, score_so_far+1001, set_so_far, string_so_far+turn2)\n",
    "        \n",
    "Scenario = 'Input'\n",
    "\n",
    "Grid = ImportToArray('Day16'+Scenario+'.txt')\n",
    "print(Grid)\n",
    "\n",
    "MinScore = 5e5\n",
    "MinString = ''\n",
    "\n",
    "StartingPoint = np.argwhere(Grid=='S')[0]\n",
    "\n",
    "empty_Set = set()\n",
    "empty_Set.add((0,0,'r'))\n",
    "print(empty_Set)\n",
    "\n",
    "NextMove( StartingPoint, 'r',0, empty_Set,'')\n",
    "\n",
    "print(MinScore, MinString, len(MinString))\n",
    "\n",
    "EndingPoint = np.argwhere(Grid=='E')[0]\n",
    "print(FastestToReach[EndingPoint[0],EndingPoint[1],'u'][0])\n",
    "print(len(FastestToReach[EndingPoint[0],EndingPoint[1],'u'][1]))\n",
    "#72428 is the answer\n"
   ]
  },
  {
   "cell_type": "code",
   "execution_count": 24,
   "metadata": {},
   "outputs": [
    {
     "name": "stdout",
     "output_type": "stream",
     "text": [
      "72428\n",
      "456\n"
     ]
    }
   ],
   "source": [
    "print(FastestToReach[EndingPoint[0],EndingPoint[1],'r'][0])\n",
    "print(len(FastestToReach[EndingPoint[0],EndingPoint[1],'r'][1]))"
   ]
  }
 ],
 "metadata": {
  "kernelspec": {
   "display_name": "Python 3",
   "language": "python",
   "name": "python3"
  },
  "language_info": {
   "codemirror_mode": {
    "name": "ipython",
    "version": 3
   },
   "file_extension": ".py",
   "mimetype": "text/x-python",
   "name": "python",
   "nbconvert_exporter": "python",
   "pygments_lexer": "ipython3",
   "version": "3.10.15"
  }
 },
 "nbformat": 4,
 "nbformat_minor": 2
}
