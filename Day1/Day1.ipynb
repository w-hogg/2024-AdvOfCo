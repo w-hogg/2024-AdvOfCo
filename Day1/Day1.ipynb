{
 "cells": [
  {
   "cell_type": "markdown",
   "metadata": {},
   "source": [
    "Part 1"
   ]
  },
  {
   "cell_type": "code",
   "execution_count": 1,
   "metadata": {},
   "outputs": [],
   "source": [
    "import pandas as pd"
   ]
  },
  {
   "cell_type": "code",
   "execution_count": 2,
   "metadata": {},
   "outputs": [
    {
     "name": "stdout",
     "output_type": "stream",
     "text": [
      "   Column1  Column2  Difference\n",
      "0    10066    10054          12\n",
      "1    10256    10213          43\n",
      "2    10372    10274          98\n",
      "3    10430    10368          62\n",
      "4    10485    10448          37\n",
      "2375403\n"
     ]
    }
   ],
   "source": [
    "# Read the input file\n",
    "df = pd.read_csv('Day1input.txt', delimiter='   ', header=None, engine='python')  # Adjust delimiter based on your text file structure\n",
    "\n",
    "# Sort each column\n",
    "column1_sorted = df[0].sort_values().reset_index(drop=True)\n",
    "column2_sorted = df[1].sort_values().reset_index(drop=True)\n",
    "\n",
    "# Create the result DataFrame and calculate the difference\n",
    "df_result = pd.DataFrame({\n",
    "    'Column1': column1_sorted,\n",
    "    'Column2': column2_sorted\n",
    "})\n",
    "df_result['Difference'] = df_result['Column1'] - df_result['Column2']\n",
    "\n",
    "# Display the results\n",
    "print(df_result.head())\n",
    "print(df_result['Difference'].abs().sum())\n"
   ]
  },
  {
   "cell_type": "markdown",
   "metadata": {},
   "source": [
    "Part 2"
   ]
  },
  {
   "cell_type": "code",
   "execution_count": 3,
   "metadata": {},
   "outputs": [
    {
     "name": "stdout",
     "output_type": "stream",
     "text": [
      "       0      1  CountInCol2  Score\n",
      "0  46669  36559            0      0\n",
      "1  54117  62675            0      0\n",
      "2  25659  15179            0      0\n",
      "3  18867  82784            0      0\n",
      "4  94354  78485            0      0\n",
      "23082277\n"
     ]
    }
   ],
   "source": [
    "df['CountInCol2'] = df.iloc[:, 0].apply(lambda x: (df.iloc[:, 1] == x).sum())\n",
    "df['Score'] = df['CountInCol2']*df.iloc[:,0]\n",
    "print(df.head())\n",
    "print(df['Score'].abs().sum())"
   ]
  }
 ],
 "metadata": {
  "kernelspec": {
   "display_name": "Python 3",
   "language": "python",
   "name": "python3"
  },
  "language_info": {
   "codemirror_mode": {
    "name": "ipython",
    "version": 3
   },
   "file_extension": ".py",
   "mimetype": "text/x-python",
   "name": "python",
   "nbconvert_exporter": "python",
   "pygments_lexer": "ipython3",
   "version": "3.10.15"
  }
 },
 "nbformat": 4,
 "nbformat_minor": 2
}
