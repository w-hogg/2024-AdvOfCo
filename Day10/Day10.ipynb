{
 "cells": [
  {
   "cell_type": "code",
   "execution_count": 8,
   "metadata": {},
   "outputs": [],
   "source": [
    "import numpy as np\n",
    "\n",
    "def ImportToString (filepath):\n",
    "    with open(filepath,'r') as file:\n",
    "        line = file.read().replace('\\n','')\n",
    "    return line\n",
    "\n",
    "def ImportToList (filepath):\n",
    "    with open(filepath,'r') as file:\n",
    "        line = file.read().replace('\\n','')\n",
    "        list = [item for item in line]\n",
    "    return list\n",
    "\n",
    "def ImportToListSpaces (filepath):\n",
    "    with open(filepath,'r') as file:\n",
    "        line = file.read().replace('\\n','')\n",
    "        list = [int(item) for item in line.split(' ')]\n",
    "    return list\n",
    "\n",
    "def ImportToArrayInt(filepath):\n",
    "    with open(filepath,'r') as file:\n",
    "        lines = [list(map(int,line.strip())) for line in file.readlines()]\n",
    "    return np.array(lines)\n",
    "\n",
    "def ImportToArray(filepath):\n",
    "    with open(filepath,'r') as file:\n",
    "        lines = [list(line.strip()) for line in file.readlines()]\n",
    "    return np.array(lines)\n",
    "\n",
    "def ImportToListOfLists(filepath):\n",
    "    with open(filepath,'r') as file:\n",
    "        lines = [list(line.strip()) for line in file.readlines()]\n",
    "    return lines"
   ]
  },
  {
   "cell_type": "markdown",
   "metadata": {},
   "source": [
    "PART ONE"
   ]
  },
  {
   "cell_type": "code",
   "execution_count": 24,
   "metadata": {},
   "outputs": [
    {
     "name": "stdout",
     "output_type": "stream",
     "text": [
      "667\n",
      "1344\n"
     ]
    }
   ],
   "source": [
    "RatingSum = 0 \n",
    "\n",
    "\n",
    "def GoUp(Grid, index):\n",
    "    global set_of_9s\n",
    "    global RatingSum\n",
    "    currentval = Grid[index[0],index[1]]\n",
    "\n",
    "    if currentval==9:\n",
    "        set_of_9s.add((index[0],index[1]))\n",
    "        RatingSum +=1\n",
    "    else:\n",
    "        if index[0]-1>=0:\n",
    "            if Grid[index[0]-1, index[1]]==currentval+1:\n",
    "                GoUp(Grid, [index[0]-1, index[1]])\n",
    "        \n",
    "        if index[1]-1>=0:\n",
    "            if Grid[index[0], index[1]-1]==currentval+1:\n",
    "                GoUp(Grid, [index[0], index[1]-1])\n",
    "\n",
    "        if index[0]+1<=Grid.shape[0]-1:\n",
    "            if Grid[index[0]+1, index[1]]==currentval+1:\n",
    "                GoUp(Grid, [index[0]+1, index[1]])\n",
    "        \n",
    "        if index[1]+1<=Grid.shape[1]-1:\n",
    "            if Grid[index[0], index[1]+1]==currentval+1:\n",
    "                GoUp(Grid, [index[0], index[1]+1])\n",
    "\n",
    "\n",
    "\n",
    "scenario = 'Input'\n",
    "Grid = ImportToArrayInt('Day10'+scenario+'.txt')\n",
    "Grid\n",
    "\n",
    "indices = np.argwhere(Grid == 0)\n",
    "indices\n",
    "\n",
    "totalsum = 0\n",
    "for index in indices:\n",
    "    set_of_9s = set()\n",
    "    GoUp(Grid, index)\n",
    "    totalsum += len(set_of_9s)\n",
    "\n",
    "print(totalsum)\n",
    "print(RatingSum)\n"
   ]
  }
 ],
 "metadata": {
  "kernelspec": {
   "display_name": "Python 3",
   "language": "python",
   "name": "python3"
  },
  "language_info": {
   "codemirror_mode": {
    "name": "ipython",
    "version": 3
   },
   "file_extension": ".py",
   "mimetype": "text/x-python",
   "name": "python",
   "nbconvert_exporter": "python",
   "pygments_lexer": "ipython3",
   "version": "3.10.15"
  }
 },
 "nbformat": 4,
 "nbformat_minor": 2
}
