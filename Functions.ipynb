{
 "cells": [
  {
   "cell_type": "code",
   "execution_count": null,
   "metadata": {},
   "outputs": [],
   "source": [
    "import numpy as np\n",
    "import re\n",
    "\n",
    "def ImportToString (filepath):\n",
    "    with open(filepath,'r') as file:\n",
    "        line = file.read().replace('','')\n",
    "    return line\n",
    "\n",
    "def ImportToList (filepath):\n",
    "    with open(filepath,'r') as file:\n",
    "        line = file.read().replace('\\n','')\n",
    "        list = [item for item in line]\n",
    "    return list\n",
    "\n",
    "def ImportToListSpaces (filepath):\n",
    "    with open(filepath,'r') as file:\n",
    "        line = file.read().replace('\\n','')\n",
    "        list = [item for item in line]\n",
    "    return list\n",
    "\n",
    "def ImportToArrayInt(filepath):\n",
    "    with open(filepath,'r') as file:\n",
    "        lines = [list(map(int,line.strip())) for line in file.readlines()]\n",
    "    return np.array(lines)\n",
    "\n",
    "def ImportToArrayTEMP(filepath):\n",
    "    with open(filepath,'r') as file:\n",
    "        lines = [list(line.strip()) for line in file.readlines()]\n",
    "    return np.array(lines) #dype=object to use more detail\n",
    "\n",
    "\n",
    "def ImportToListOfLists(filepath):\n",
    "    with open(filepath,'r') as file:\n",
    "        lines = [line for line in file.readlines()]\n",
    "    return lines\n",
    "\n",
    "def ImportToListByLine(filepath):\n",
    "    with open(filepath,'r') as file:\n",
    "        lines = [line.strip() for line in file.readlines()]\n",
    "    return lines\n",
    "\n"
   ]
  },
  {
   "cell_type": "code",
   "execution_count": null,
   "metadata": {},
   "outputs": [],
   "source": [
    "def ConvertToBinary(int, len):\n",
    "    BinaryString = format(int,'b').zfill(len)\n",
    "    return BinaryString\n",
    "\n",
    "def ConvertFromBinary (bin_input):\n",
    "    return int(bin_input, 2)"
   ]
  },
  {
   "cell_type": "code",
   "execution_count": null,
   "metadata": {},
   "outputs": [],
   "source": [
    "##Numpy Array full\n",
    "array = np.full((3, 3), '.') \n",
    "print(array)\n",
    "\n",
    "\n",
    "import matplotlib.pyplot as plt\n",
    "def PlotGrid(Bytes, Places, BoardSize):\n",
    "    # Define a color map: 0 for '#', 1 for '0', and 2 for '.'\n",
    "    Grid = np.full((BoardSize, BoardSize), 2)  # Create a grid with a default value of 2\n",
    "    for item in Bytes:\n",
    "        Grid[item[1], item[0]] = 0  # Assign 0 for bytes\n",
    "    for item in Places:\n",
    "        Grid[item[1], item[0]] = 1  # Assign 1 for places\n",
    "\n",
    "    cmap = plt.cm.colors.ListedColormap(['black', 'red', 'white'])\n",
    "    plt.imshow(Grid, cmap=cmap, origin='upper', interpolation='none')\n",
    "    plt.grid(False)  # Disable grid lines\n",
    "    plt.colorbar(ticks=[0, 1, 2], label='Values')\n",
    "    plt.show()"
   ]
  }
 ],
 "metadata": {
  "kernelspec": {
   "display_name": "Python 3",
   "language": "python",
   "name": "python3"
  },
  "language_info": {
   "name": "python",
   "version": "3.10.15"
  }
 },
 "nbformat": 4,
 "nbformat_minor": 2
}
