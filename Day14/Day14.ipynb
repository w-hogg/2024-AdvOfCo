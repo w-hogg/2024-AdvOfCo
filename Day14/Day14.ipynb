{
 "cells": [
  {
   "cell_type": "markdown",
   "metadata": {},
   "source": [
    "SETUP"
   ]
  },
  {
   "cell_type": "code",
   "execution_count": 2,
   "metadata": {},
   "outputs": [],
   "source": [
    "import numpy as np\n",
    "import matplotlib.pyplot as plt\n",
    "import re\n",
    "\n",
    "def ImportToString (filepath):\n",
    "    with open(filepath,'r') as file:\n",
    "        line = file.read().replace('','')\n",
    "    return line\n",
    "\n",
    "def ImportToList (filepath):\n",
    "    with open(filepath,'r') as file:\n",
    "        line = file.read().replace('\\n','')\n",
    "        list = [item for item in line]\n",
    "    return list\n",
    "\n",
    "def ImportToListSpaces (filepath):\n",
    "    with open(filepath,'r') as file:\n",
    "        line = file.read().replace('\\n','')\n",
    "        list = [item for item in line]\n",
    "    return list\n",
    "\n",
    "def ImportToArrayInt(filepath):\n",
    "    with open(filepath,'r') as file:\n",
    "        lines = [list(map(int,line.strip())) for line in file.readlines()]\n",
    "    return np.array(lines)\n",
    "\n",
    "def ImportToArray(filepath):\n",
    "    with open(filepath,'r') as file:\n",
    "        lines = [list(line.strip()) for line in file.readlines()]\n",
    "    return np.array(lines)\n",
    "\n",
    "def ImportToListOfLists(filepath):\n",
    "    with open(filepath,'r') as file:\n",
    "        lines = [line for line in file.readlines()]\n",
    "    return lines"
   ]
  },
  {
   "cell_type": "markdown",
   "metadata": {},
   "source": [
    "PART ONE"
   ]
  },
  {
   "cell_type": "code",
   "execution_count": null,
   "metadata": {},
   "outputs": [],
   "source": [
    "def ScoreGrid(indices, rows, columns):\n",
    "    topleft, topright, bottomleft, bottomright = 0, 0, 0, 0\n",
    "    for index in indices: #find top left\n",
    "        if index[1]<(rows-1)/2 and index[0]<(columns-1)/2:\n",
    "            topleft+=1\n",
    "\n",
    "    for index in indices: #find bottom left\n",
    "        if index[1]>=(rows+1)/2 and index[0]<(columns-1)/2:\n",
    "            bottomleft+=1\n",
    "\n",
    "    for index in indices: #find bottom right\n",
    "        if index[1]>=(rows+1)/2 and index[0]>=(columns+1)/2:\n",
    "            bottomright+=1\n",
    "\n",
    "    for index in indices: #find bottom left\n",
    "        if index[1]<(rows-1)/2 and index[0]>=(columns+1)/2:\n",
    "            topright+=1\n",
    "\n",
    "    score = topleft*topright*bottomleft*bottomright\n",
    "    print(topleft, topright, bottomleft, bottomright)\n",
    "    return score\n",
    "\n",
    "def PrintIndices(indices, rows, columns):\n",
    "    Grid = np.full((rows,columns), '.')\n",
    "    for index in indices:\n",
    "        if Grid[index[1], index[0]]=='.':\n",
    "            Grid[index[1], index[0]] = int(1)\n",
    "        else:\n",
    "            Grid[index[1], index[0]] = int(Grid[index[1], index[0]]) + int(1)\n",
    "    print(Grid)\n",
    "\n",
    "\n",
    "seconds = 100\n",
    "rows, columns=103, 101\n",
    "#rows, columns = 7, 11\n",
    "#importtext = ImportToString('Day14Test.txt')\n",
    "importtext = ImportToString('Day14Input.txt')\n",
    "\n",
    "pattern = re.compile(r'p=(\\d+),(\\d+) v=(-?\\d+),(-?\\d+)')\n",
    "matches = pattern.findall(importtext)\n",
    "\n",
    "indices = [list(map(int, item)) for item in matches]\n",
    "NewIndices =[]\n",
    "for index in indices:\n",
    "    p_x, p_y, dx, dy = index\n",
    "    NewIndices.append([(p_x + dx*seconds) % columns, (p_y +dy*seconds) % rows])\n",
    "\n",
    "PrintIndices(NewIndices, rows, columns)\n",
    "\n",
    "ScoreGrid(NewIndices, rows,columns)\n"
   ]
  },
  {
   "cell_type": "markdown",
   "metadata": {},
   "source": [
    "PART TWO"
   ]
  },
  {
   "cell_type": "code",
   "execution_count": 41,
   "metadata": {},
   "outputs": [
    {
     "name": "stdout",
     "output_type": "stream",
     "text": [
      "9057\n",
      "11582\n"
     ]
    },
    {
     "data": {
      "text/plain": [
       "<Figure size 2000x2000 with 0 Axes>"
      ]
     },
     "metadata": {},
     "output_type": "display_data"
    },
    {
     "data": {
      "text/plain": [
       "<Figure size 2000x2000 with 0 Axes>"
      ]
     },
     "metadata": {},
     "output_type": "display_data"
    }
   ],
   "source": [
    "def PlotArray(array, ind):\n",
    "\n",
    "    # Function to create a color map for the array\n",
    "    def color_map(value):\n",
    "        if value.isdigit() or (value.startswith('-') and value[1:].isdigit()):\n",
    "            return 'red'\n",
    "        return 'white'\n",
    "\n",
    "    i, j = ind%5, int(ind/5)\n",
    "    # Create the colored grid\n",
    "    colored_grid = np.array([[color_map(cell) for cell in row] for row in array])\n",
    "\n",
    "    # Create the plot\n",
    "\n",
    "    ax[i,j].imshow(colored_grid == 'red', cmap='Reds')\n",
    "    ax[i,j].imshow(colored_grid == 'white', cmap='Greys')\n",
    "\n",
    "    # Hide the axes\n",
    "    ax[i,j].axis('off')\n",
    "\n",
    "\n",
    "def PrintIndices(indices, rows, columns):\n",
    "    Grid = np.full((rows,columns), '.')\n",
    "    for index in indices:\n",
    "        if Grid[index[1], index[0]]=='.':\n",
    "            Grid[index[1], index[0]] = int(1)\n",
    "        else:\n",
    "            Grid[index[1], index[0]] = int(Grid[index[1], index[0]]) + int(1)\n",
    "    #print(Grid)\n",
    "    return Grid\n",
    "\n",
    "\n",
    "seconds = 68+64*101\n",
    "rows, columns=103, 101\n",
    "importtext = ImportToString('Day14Input.txt')\n",
    "#rows, columns = 7, 11\n",
    "#importtext = ImportToString('Day14Test.txt')\n",
    "\n",
    "pattern = re.compile(r'p=(\\d+),(\\d+) v=(-?\\d+),(-?\\d+)')\n",
    "matches = pattern.findall(importtext)\n",
    "indices = [list(map(int, item)) for item in matches]\n",
    "#StDevs = np.zeros((100*25,3))\n",
    "\n",
    "\n",
    "\n",
    "for this_set in range (0, 2):\n",
    "    fig, ax = plt.subplots(5, 5, figsize=(20, 20))\n",
    "\n",
    "    for ind in range (0, 25):\n",
    "        NewIndices =[]\n",
    "        #X_Items = []\n",
    "        for index in indices:\n",
    "            p_x, p_y, dx, dy = index\n",
    "            NewIndices.append([(p_x +seconds*dx ) % columns, (p_y +seconds*dy) % rows, dx, dy])\n",
    "            #X_Items = [item[0] for item in NewIndices]\n",
    "            #Y_Items = [item[1] for item in NewIndices]\n",
    "            #StDevs[this_set*25 + ind,1]=np.std(X_Items)\n",
    "            #StDevs[this_set*25 + ind,2]=np.std(Y_Items)    \n",
    "        seconds +=101\n",
    "\n",
    "        PlotArray(PrintIndices(NewIndices, rows, columns), ind)\n",
    "        \n",
    "    print(seconds)\n",
    "\n",
    "    fig.tight_layout()\n",
    "    #plt.show()\n",
    "    fig.savefig('Graphs' + str(this_set) + '.png')\n",
    "    plt.clf()\n",
    "\n",
    "#print(StDevs)\n",
    "\n"
   ]
  },
  {
   "cell_type": "code",
   "execution_count": 43,
   "metadata": {},
   "outputs": [
    {
     "name": "stdout",
     "output_type": "stream",
     "text": [
      "6532\n"
     ]
    },
    {
     "data": {
      "image/png": "[encoded data removed]",
      "text/plain": [
       "<Figure size 200x200 with 1 Axes>"
      ]
     },
     "metadata": {},
     "output_type": "display_data"
    }
   ],
   "source": [
    "def PlotArray(array, ind):\n",
    "\n",
    "    # Function to create a color map for the array\n",
    "    def color_map(value):\n",
    "        if value.isdigit():\n",
    "            return 'black'\n",
    "        return 'white'\n",
    "\n",
    "    colored_grid = np.array([[color_map(cell) for cell in row] for row in array])\n",
    "    ax.imshow(colored_grid == 'black', cmap='Greys')\n",
    "    ax.axis('off')\n",
    "\n",
    "\n",
    "def PrintIndices(indices, rows, columns):\n",
    "    Grid = np.full((rows,columns), '.')\n",
    "    for index in indices:\n",
    "        if Grid[index[1], index[0]]=='.':\n",
    "            Grid[index[1], index[0]] = int(1)\n",
    "        else:\n",
    "            Grid[index[1], index[0]] = int(Grid[index[1], index[0]]) + int(1)\n",
    "    #print(Grid)\n",
    "    return Grid\n",
    "\n",
    "\n",
    "\n",
    "seconds = 68 +101*64\n",
    "rows, columns=103, 101\n",
    "importtext = ImportToString('Day14Input.txt')\n",
    "#rows, columns = 7, 11\n",
    "#importtext = ImportToString('Day14Test.txt')\n",
    "\n",
    "pattern = re.compile(r'p=(\\d+),(\\d+) v=(-?\\d+),(-?\\d+)')\n",
    "matches = pattern.findall(importtext)\n",
    "indices = [list(map(int, item)) for item in matches]\n",
    "\n",
    "\n",
    "fig, ax = plt.subplots(figsize=(2, 2))\n",
    "NewIndices =[]\n",
    "for index in indices:\n",
    "    p_x, p_y, dx, dy = index\n",
    "    NewIndices.append([(p_x +dx*seconds ) % columns, (p_y +dy*seconds) % rows, dx, dy])\n",
    "\n",
    "\n",
    "PlotArray(PrintIndices(NewIndices, rows, columns), 100)        \n",
    "print(seconds)\n",
    "\n",
    "fig.tight_layout()\n",
    "plt.show()\n",
    "#fig.savefig('Graphs' + str(this_set) + '.png')\n",
    "\n"
   ]
  }
 ],
 "metadata": {
  "kernelspec": {
   "display_name": "Python 3",
   "language": "python",
   "name": "python3"
  },
  "language_info": {
   "codemirror_mode": {
    "name": "ipython",
    "version": 3
   },
   "file_extension": ".py",
   "mimetype": "text/x-python",
   "name": "python",
   "nbconvert_exporter": "python",
   "pygments_lexer": "ipython3",
   "version": "3.10.15"
  }
 },
 "nbformat": 4,
 "nbformat_minor": 2
}
