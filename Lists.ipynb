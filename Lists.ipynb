{
 "cells": [
  {
   "cell_type": "markdown",
   "metadata": {},
   "source": [
    "LISTS"
   ]
  },
  {
   "cell_type": "code",
   "execution_count": null,
   "metadata": {},
   "outputs": [],
   "source": [
    "#Creating Lists\n",
    "my_list = [] # Creating an empty list\n",
    "numbers = [1, 2, 3, 4, 5] # Creating a list with elements\n",
    "squared_list = [x**2 for x in range(10)]  # [0, 1, 4, 9, 16, 25, 36, 49, 64, 81]  # Creating a list with a comprehension\n",
    "\n",
    "#Accessing Elements\n",
    "first_element = numbers[0]  # 1  # Accessing elements by index\n",
    "last_element = numbers[-1]  # 5  # Accessing elements by index\n",
    "sub_list = numbers[1:4]  # [2, 3, 4]  # Slicing a list\n",
    "\n",
    "# Changing a value\n",
    "numbers[2] = 10  # [1, 2, 10, 4, 5]  \n",
    "\n",
    "# Adding elements\n",
    "numbers.append(6)  # [1, 2, 10, 4, 5, 6]  \n",
    "numbers.insert(1, 99)  # [1, 99, 2, 10, 4, 5, 6] \n",
    "\n",
    "# Extending a list\n",
    "numbers.extend([7, 8, 9])  # [1, 99, 2, 10, 4, 5, 6, 7, 8, 9] \n",
    "\n",
    "# Removing elements\n",
    "numbers.remove(99)  # [1, 2, 10, 4, 5, 6, 7, 8, 9]  \n",
    "popped_element = numbers.pop()  # 9, and numbers become [1, 2, 10, 4, 5, 6, 7, 8]\n",
    "numbers.pop(2)  # 10, and numbers become [1, 2, 4, 5, 6, 7, 8] \n",
    "\n",
    "# Clearing a list\n",
    "numbers.clear()  # [] \n"
   ]
  },
  {
   "cell_type": "markdown",
   "metadata": {},
   "source": [
    "List Operations"
   ]
  },
  {
   "cell_type": "code",
   "execution_count": null,
   "metadata": {},
   "outputs": [],
   "source": [
    "# Length of a list\n",
    "length = len(numbers)  # 8\n",
    "\n",
    "# Concatenation\n",
    "list1 = [1, 2, 3]\n",
    "list2 = [4, 5, 6]\n",
    "combined_list = list1 + list2  # [1, 2, 3, 4, 5, 6]\n",
    "\n",
    "# Repetition\n",
    "repeated_list = list1 * 3  # [1, 2, 3, 1, 2, 3, 1, 2, 3]\n",
    "\n",
    "# Membership\n",
    "is_present = 5 in list1  # False"
   ]
  },
  {
   "cell_type": "markdown",
   "metadata": {},
   "source": [
    "Iterating Through Lists"
   ]
  },
  {
   "cell_type": "code",
   "execution_count": null,
   "metadata": {},
   "outputs": [],
   "source": [
    "# Using a for loop\n",
    "for number in numbers:\n",
    "    print(number)\n",
    "\n",
    "# Using list comprehension\n",
    "squared_list = [x**2 for x in numbers]"
   ]
  },
  {
   "cell_type": "markdown",
   "metadata": {},
   "source": [
    "Built-In List Methods"
   ]
  },
  {
   "cell_type": "code",
   "execution_count": null,
   "metadata": {},
   "outputs": [],
   "source": [
    "# Copying a list\n",
    "new_list = numbers.copy()\n",
    "\n",
    "# Counting occurrences of an element\n",
    "count_of_twos = numbers.count(2)\n",
    "\n",
    "# Finding the index of an element\n",
    "index_of_four = numbers.index(4)\n",
    "\n",
    "# Sorting a list\n",
    "numbers.sort()  # sorts the list in place\n",
    "sorted_list = sorted(numbers)  # returns a new sorted list\n",
    "\n",
    "# Reversing a list\n",
    "numbers.reverse()  # reverses the list in place\n",
    "reversed_list = list(reversed(numbers))  # returns a new reversed list\n"
   ]
  }
 ],
 "metadata": {
  "kernelspec": {
   "display_name": "Python 3",
   "language": "python",
   "name": "python3"
  },
  "language_info": {
   "codemirror_mode": {
    "name": "ipython",
    "version": 3
   },
   "file_extension": ".py",
   "mimetype": "text/x-python",
   "name": "python",
   "nbconvert_exporter": "python",
   "pygments_lexer": "ipython3",
   "version": "3.10.15"
  }
 },
 "nbformat": 4,
 "nbformat_minor": 2
}
